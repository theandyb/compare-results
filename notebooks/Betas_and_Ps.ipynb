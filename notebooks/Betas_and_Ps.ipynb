{
 "cells": [
  {
   "cell_type": "code",
   "execution_count": 1,
   "metadata": {},
   "outputs": [
    {
     "name": "stderr",
     "output_type": "stream",
     "text": [
      "── Attaching packages ─────────────────────────────────────── tidyverse 1.2.1 ──\n",
      "✔ ggplot2 3.0.0     ✔ purrr   0.2.5\n",
      "✔ tibble  1.4.2     ✔ dplyr   0.7.6\n",
      "✔ tidyr   0.8.1     ✔ stringr 1.3.1\n",
      "✔ readr   1.1.1     ✔ forcats 0.3.0\n",
      "── Conflicts ────────────────────────────────────────── tidyverse_conflicts() ──\n",
      "✖ dplyr::filter() masks stats::filter()\n",
      "✖ dplyr::lag()    masks stats::lag()\n"
     ]
    }
   ],
   "source": [
    "library(tidyverse)"
   ]
  },
  {
   "cell_type": "code",
   "execution_count": 2,
   "metadata": {},
   "outputs": [],
   "source": [
    "feature_specific_dir <- \"/net/snowwhite/home/beckandy/research/compare_results/output/feature_specific/\"\n",
    "feature_files <- list.files(feature_specific_dir)"
   ]
  },
  {
   "cell_type": "code",
   "execution_count": 3,
   "metadata": {},
   "outputs": [
    {
     "data": {
      "text/html": [
       "'/net/snowwhite/home/beckandy/research/compare_results/output/feature_specific/CpGI.csv'"
      ],
      "text/latex": [
       "'/net/snowwhite/home/beckandy/research/compare\\_results/output/feature\\_specific/CpGI.csv'"
      ],
      "text/markdown": [
       "'/net/snowwhite/home/beckandy/research/compare_results/output/feature_specific/CpGI.csv'"
      ],
      "text/plain": [
       "[1] \"/net/snowwhite/home/beckandy/research/compare_results/output/feature_specific/CpGI.csv\""
      ]
     },
     "metadata": {},
     "output_type": "display_data"
    }
   ],
   "source": [
    "paste0(feature_specific_dir, feature_files[1])"
   ]
  },
  {
   "cell_type": "markdown",
   "metadata": {},
   "source": [
    "### Intercepts"
   ]
  },
  {
   "cell_type": "code",
   "execution_count": 4,
   "metadata": {},
   "outputs": [
    {
     "data": {
      "text/html": [
       "13"
      ],
      "text/latex": [
       "13"
      ],
      "text/markdown": [
       "13"
      ],
      "text/plain": [
       "[1] 13"
      ]
     },
     "metadata": {},
     "output_type": "display_data"
    }
   ],
   "source": [
    "which(feature_files == 'Intercept.csv')"
   ]
  },
  {
   "cell_type": "code",
   "execution_count": 5,
   "metadata": {},
   "outputs": [
    {
     "name": "stderr",
     "output_type": "stream",
     "text": [
      "Parsed with column specification:\n",
      "cols(\n",
      "  Motif = col_character(),\n",
      "  Var = col_character(),\n",
      "  BetaDiff = col_double(),\n",
      "  SignBeta = col_integer(),\n",
      "  PDiff = col_double(),\n",
      "  ABeta = col_double(),\n",
      "  jBeta = col_double(),\n",
      "  AP = col_double(),\n",
      "  JP = col_double()\n",
      ")\n"
     ]
    }
   ],
   "source": [
    "dat <- read_csv(paste0(feature_specific_dir, feature_files[13]))"
   ]
  },
  {
   "cell_type": "code",
   "execution_count": 6,
   "metadata": {},
   "outputs": [
    {
     "data": {
      "text/html": [
       "<table>\n",
       "<thead><tr><th scope=col>Motif</th><th scope=col>Var</th><th scope=col>BetaDiff</th><th scope=col>SignBeta</th><th scope=col>PDiff</th><th scope=col>ABeta</th><th scope=col>jBeta</th><th scope=col>AP</th><th scope=col>JP</th></tr></thead>\n",
       "<tbody>\n",
       "\t<tr><td>AT_CG_AACACGC</td><td>(Intercept)  </td><td> 0.0501116   </td><td>1            </td><td> 5.349e-05   </td><td>-7.061691    </td><td>-7.111802    </td><td>5.97e-05     </td><td>6.21e-06     </td></tr>\n",
       "\t<tr><td>AT_CG_AAAATCG</td><td>(Intercept)  </td><td>-2.6297205   </td><td>1            </td><td> 5.034e-08   </td><td>-8.414642    </td><td>-5.784921    </td><td>5.49e-08     </td><td>4.56e-09     </td></tr>\n",
       "\t<tr><td>AT_CG_AACACGT</td><td>(Intercept)  </td><td> 1.6287464   </td><td>1            </td><td> 8.290e-06   </td><td>-5.653021    </td><td>-7.281767    </td><td>8.29e-06     </td><td>1.90e-14     </td></tr>\n",
       "\t<tr><td>AT_CG_AACAACG</td><td>(Intercept)  </td><td>-4.0288975   </td><td>1            </td><td>-6.284e-06   </td><td>-9.887529    </td><td>-5.858631    </td><td>3.36e-07     </td><td>6.62e-06     </td></tr>\n",
       "\t<tr><td>AT_CG_AAGACGG</td><td>(Intercept)  </td><td>-1.7890922   </td><td>1            </td><td>-3.000e-03   </td><td>-7.874283    </td><td>-6.085191    </td><td>9.00e-04     </td><td>3.90e-03     </td></tr>\n",
       "\t<tr><td>AT_CG_AAGACGA</td><td>(Intercept)  </td><td> 3.1009177   </td><td>1            </td><td> 4.860e-02   </td><td>-4.251071    </td><td>-7.351988    </td><td>4.87e-02     </td><td>1.00e-04     </td></tr>\n",
       "</tbody>\n",
       "</table>\n"
      ],
      "text/latex": [
       "\\begin{tabular}{r|lllllllll}\n",
       " Motif & Var & BetaDiff & SignBeta & PDiff & ABeta & jBeta & AP & JP\\\\\n",
       "\\hline\n",
       "\t AT\\_CG\\_AACACGC & (Intercept)       &  0.0501116        & 1                 &  5.349e-05        & -7.061691         & -7.111802         & 5.97e-05          & 6.21e-06         \\\\\n",
       "\t AT\\_CG\\_AAAATCG & (Intercept)       & -2.6297205        & 1                 &  5.034e-08        & -8.414642         & -5.784921         & 5.49e-08          & 4.56e-09         \\\\\n",
       "\t AT\\_CG\\_AACACGT & (Intercept)       &  1.6287464        & 1                 &  8.290e-06        & -5.653021         & -7.281767         & 8.29e-06          & 1.90e-14         \\\\\n",
       "\t AT\\_CG\\_AACAACG & (Intercept)       & -4.0288975        & 1                 & -6.284e-06        & -9.887529         & -5.858631         & 3.36e-07          & 6.62e-06         \\\\\n",
       "\t AT\\_CG\\_AAGACGG & (Intercept)       & -1.7890922        & 1                 & -3.000e-03        & -7.874283         & -6.085191         & 9.00e-04          & 3.90e-03         \\\\\n",
       "\t AT\\_CG\\_AAGACGA & (Intercept)       &  3.1009177        & 1                 &  4.860e-02        & -4.251071         & -7.351988         & 4.87e-02          & 1.00e-04         \\\\\n",
       "\\end{tabular}\n"
      ],
      "text/markdown": [
       "\n",
       "Motif | Var | BetaDiff | SignBeta | PDiff | ABeta | jBeta | AP | JP | \n",
       "|---|---|---|---|---|---|\n",
       "| AT_CG_AACACGC | (Intercept)   |  0.0501116    | 1             |  5.349e-05    | -7.061691     | -7.111802     | 5.97e-05      | 6.21e-06      | \n",
       "| AT_CG_AAAATCG | (Intercept)   | -2.6297205    | 1             |  5.034e-08    | -8.414642     | -5.784921     | 5.49e-08      | 4.56e-09      | \n",
       "| AT_CG_AACACGT | (Intercept)   |  1.6287464    | 1             |  8.290e-06    | -5.653021     | -7.281767     | 8.29e-06      | 1.90e-14      | \n",
       "| AT_CG_AACAACG | (Intercept)   | -4.0288975    | 1             | -6.284e-06    | -9.887529     | -5.858631     | 3.36e-07      | 6.62e-06      | \n",
       "| AT_CG_AAGACGG | (Intercept)   | -1.7890922    | 1             | -3.000e-03    | -7.874283     | -6.085191     | 9.00e-04      | 3.90e-03      | \n",
       "| AT_CG_AAGACGA | (Intercept)   |  3.1009177    | 1             |  4.860e-02    | -4.251071     | -7.351988     | 4.87e-02      | 1.00e-04      | \n",
       "\n",
       "\n"
      ],
      "text/plain": [
       "  Motif         Var         BetaDiff   SignBeta PDiff      ABeta     jBeta    \n",
       "1 AT_CG_AACACGC (Intercept)  0.0501116 1         5.349e-05 -7.061691 -7.111802\n",
       "2 AT_CG_AAAATCG (Intercept) -2.6297205 1         5.034e-08 -8.414642 -5.784921\n",
       "3 AT_CG_AACACGT (Intercept)  1.6287464 1         8.290e-06 -5.653021 -7.281767\n",
       "4 AT_CG_AACAACG (Intercept) -4.0288975 1        -6.284e-06 -9.887529 -5.858631\n",
       "5 AT_CG_AAGACGG (Intercept) -1.7890922 1        -3.000e-03 -7.874283 -6.085191\n",
       "6 AT_CG_AAGACGA (Intercept)  3.1009177 1         4.860e-02 -4.251071 -7.351988\n",
       "  AP       JP      \n",
       "1 5.97e-05 6.21e-06\n",
       "2 5.49e-08 4.56e-09\n",
       "3 8.29e-06 1.90e-14\n",
       "4 3.36e-07 6.62e-06\n",
       "5 9.00e-04 3.90e-03\n",
       "6 4.87e-02 1.00e-04"
      ]
     },
     "metadata": {},
     "output_type": "display_data"
    }
   ],
   "source": [
    "head(dat)"
   ]
  },
  {
   "cell_type": "code",
   "execution_count": 11,
   "metadata": {},
   "outputs": [
    {
     "data": {
      "text/html": [
       "<table>\n",
       "<thead><tr><th scope=col>Motif</th><th scope=col>Var</th><th scope=col>BetaDiff</th><th scope=col>SignBeta</th><th scope=col>PDiff</th><th scope=col>ABeta</th><th scope=col>jBeta</th><th scope=col>AP</th><th scope=col>JP</th></tr></thead>\n",
       "<tbody>\n",
       "\t<tr><td>AT_CG_CATACCG</td><td>(Intercept)  </td><td> 10.71838    </td><td>1            </td><td> 0.88590000  </td><td> -0.3859187  </td><td>-11.1042987  </td><td>8.860e-01    </td><td>1.000e-04    </td></tr>\n",
       "\t<tr><td>AT_CG_ATAACGG</td><td>(Intercept)  </td><td>-20.27024    </td><td>0            </td><td>-0.81600000  </td><td>-19.4606321  </td><td>  0.8096031  </td><td>1.000e-04    </td><td>8.161e-01    </td></tr>\n",
       "\t<tr><td>AT_CG_CGAACCA</td><td>(Intercept)  </td><td>-11.15866    </td><td>1            </td><td>-0.20340000  </td><td>-14.7730789  </td><td> -3.6144226  </td><td>2.000e-04    </td><td>2.036e-01    </td></tr>\n",
       "\t<tr><td>AT_CG_CAAACGC</td><td>(Intercept)  </td><td>-12.22031    </td><td>1            </td><td>-0.63170000  </td><td>-13.5633639  </td><td> -1.3430570  </td><td>6.000e-04    </td><td>6.323e-01    </td></tr>\n",
       "\t<tr><td>AT_CG_CGAACTG</td><td>(Intercept)  </td><td>-10.17131    </td><td>1            </td><td>-0.11369994  </td><td>-12.4806314  </td><td> -2.3093182  </td><td>6.100e-08    </td><td>1.137e-01    </td></tr>\n",
       "\t<tr><td>AT_CG_GCGATAG</td><td>(Intercept)  </td><td>-10.01344    </td><td>1            </td><td>-0.01819680  </td><td>-14.5489160  </td><td> -4.5354711  </td><td>3.200e-06    </td><td>1.820e-02    </td></tr>\n",
       "\t<tr><td>AT_CG_GGTACCG</td><td>(Intercept)  </td><td>-14.12894    </td><td>1            </td><td>-0.45449281  </td><td>-15.9050387  </td><td> -1.7761017  </td><td>7.190e-06    </td><td>4.545e-01    </td></tr>\n",
       "\t<tr><td>AT_CG_GCGATAA</td><td>(Intercept)  </td><td>-14.49135    </td><td>1            </td><td>-0.63600000  </td><td>-16.0499050  </td><td> -1.5585576  </td><td>6.000e-04    </td><td>6.366e-01    </td></tr>\n",
       "\t<tr><td>AT_CG_GCAACGG</td><td>(Intercept)  </td><td>-17.45708    </td><td>1            </td><td>-0.74717490  </td><td>-18.3847721  </td><td> -0.9276953  </td><td>2.510e-05    </td><td>7.472e-01    </td></tr>\n",
       "\t<tr><td>AT_CG_GCAATCG</td><td>(Intercept)  </td><td> 10.50416    </td><td>1            </td><td> 0.68230000  </td><td> -1.0678908  </td><td>-11.5720511  </td><td>6.823e-01    </td><td>2.790e-09    </td></tr>\n",
       "\t<tr><td>AT_CG_TATACGC</td><td>(Intercept)  </td><td> 15.44947    </td><td>0            </td><td> 0.85309988  </td><td>  0.6599110  </td><td>-14.7895563  </td><td>8.531e-01    </td><td>1.220e-07    </td></tr>\n",
       "\t<tr><td>AT_CG_TTGATCG</td><td>(Intercept)  </td><td>-14.19627    </td><td>1            </td><td>-0.42536570  </td><td>-16.0579162  </td><td> -1.8616473  </td><td>3.430e-05    </td><td>4.254e-01    </td></tr>\n",
       "\t<tr><td>AT_CG_CGCATCG</td><td>(Intercept)  </td><td> 10.90706    </td><td>1            </td><td> 0.22348940  </td><td> -4.1120559  </td><td>-15.0191167  </td><td>2.235e-01    </td><td>1.060e-05    </td></tr>\n",
       "\t<tr><td>AT_CG_CGAACGC</td><td>(Intercept)  </td><td>-18.47933    </td><td>1            </td><td>-0.67250000  </td><td>-20.4225021  </td><td> -1.9431726  </td><td>3.000e-03    </td><td>6.755e-01    </td></tr>\n",
       "\t<tr><td>AT_CG_CGGATAC</td><td>(Intercept)  </td><td>-12.98480    </td><td>1            </td><td>-0.38997970  </td><td>-15.1981916  </td><td> -2.2133950  </td><td>2.030e-05    </td><td>3.900e-01    </td></tr>\n",
       "\t<tr><td>AT_TA_ACAACCG</td><td>(Intercept)  </td><td>-13.03641    </td><td>1            </td><td>-0.30829983  </td><td>-15.0099225  </td><td> -1.9735125  </td><td>1.740e-07    </td><td>3.083e-01    </td></tr>\n",
       "\t<tr><td>AT_TA_ACGAGAT</td><td>(Intercept)  </td><td>-10.59737    </td><td>1            </td><td>-0.36319992  </td><td>-12.1482502  </td><td> -1.5508846  </td><td>7.990e-08    </td><td>3.632e-01    </td></tr>\n",
       "\t<tr><td>AT_TA_ACGACGT</td><td>(Intercept)  </td><td> 13.36045    </td><td>0            </td><td> 0.97619911  </td><td>  0.0912532  </td><td>-13.2691996  </td><td>9.762e-01    </td><td>8.870e-07    </td></tr>\n",
       "\t<tr><td>AT_TA_CGAATCG</td><td>(Intercept)  </td><td>-12.04695    </td><td>1            </td><td>-0.76770000  </td><td>-13.1520907  </td><td> -1.1051456  </td><td>3.360e-02    </td><td>8.013e-01    </td></tr>\n",
       "\t<tr><td>AT_TA_CGGAATC</td><td>(Intercept)  </td><td>-10.43219    </td><td>1            </td><td>-0.07989996  </td><td>-13.0367967  </td><td> -2.6046037  </td><td>4.100e-08    </td><td>7.990e-02    </td></tr>\n",
       "\t<tr><td>AT_TA_GCGACCG</td><td>(Intercept)  </td><td>-11.23117    </td><td>1            </td><td>-0.52680000  </td><td>-13.5985953  </td><td> -2.3674227  </td><td>2.700e-03    </td><td>5.295e-01    </td></tr>\n",
       "\t<tr><td>AT_TA_TCGACTC</td><td>(Intercept)  </td><td>-10.15215    </td><td>1            </td><td>-0.09739999  </td><td>-12.3785784  </td><td> -2.2264235  </td><td>1.190e-08    </td><td>9.740e-02    </td></tr>\n",
       "\t<tr><td>AT_TA_TTGAGCG</td><td>(Intercept)  </td><td>-10.95424    </td><td>1            </td><td>-0.21429947  </td><td>-13.2991931  </td><td> -2.3449485  </td><td>5.290e-07    </td><td>2.143e-01    </td></tr>\n",
       "\t<tr><td>AT_TA_CCGAACG</td><td>(Intercept)  </td><td>-11.47104    </td><td>1            </td><td>-0.26370000  </td><td>-17.1477756  </td><td> -5.6767375  </td><td>7.100e-03    </td><td>2.708e-01    </td></tr>\n",
       "\t<tr><td>AT_TA_TCGAATA</td><td>(Intercept)  </td><td>-13.56377    </td><td>1            </td><td>-0.37488950  </td><td>-15.0369359  </td><td> -1.4731702  </td><td>1.050e-05    </td><td>3.749e-01    </td></tr>\n",
       "\t<tr><td>GC_CG_CGTCACA</td><td>(Intercept)  </td><td>-10.62758    </td><td>1            </td><td>-0.06960000  </td><td>-13.0999071  </td><td> -2.4723288  </td><td>2.250e-09    </td><td>6.960e-02    </td></tr>\n",
       "\t<tr><td>GC_CG_CGGCATA</td><td>(Intercept)  </td><td>-24.68548    </td><td>0            </td><td>-0.64876190  </td><td>-22.9073512  </td><td>  1.7781311  </td><td>3.810e-05    </td><td>6.488e-01    </td></tr>\n",
       "\t<tr><td>GC_CG_GCGCGTA</td><td>(Intercept)  </td><td>-13.87888    </td><td>1            </td><td>-0.66320000  </td><td>-15.4271777  </td><td> -1.5482979  </td><td>4.000e-04    </td><td>6.636e-01    </td></tr>\n",
       "\t<tr><td>GC_TA_CGGCGTA</td><td>(Intercept)  </td><td>-11.10116    </td><td>1            </td><td>-0.84080000  </td><td>-11.6918075  </td><td> -0.5906461  </td><td>5.000e-04    </td><td>8.413e-01    </td></tr>\n",
       "\t<tr><td>GC_TA_CGCCGAT</td><td>(Intercept)  </td><td>-14.43934    </td><td>1            </td><td>-0.55030000  </td><td>-16.0916447  </td><td> -1.6523087  </td><td>1.000e-04    </td><td>5.504e-01    </td></tr>\n",
       "\t<tr><td>GC_TA_GCGCGTT</td><td>(Intercept)  </td><td> 11.63561    </td><td>1            </td><td> 0.92999960  </td><td> -0.1560196  </td><td>-11.7916324  </td><td>9.300e-01    </td><td>4.030e-07    </td></tr>\n",
       "\t<tr><td>GC_TA_GCGCTTA</td><td>(Intercept)  </td><td> 11.26854    </td><td>1            </td><td> 0.52600000  </td><td> -1.6398913  </td><td>-12.9084273  </td><td>5.260e-01    </td><td>2.820e-09    </td></tr>\n",
       "\t<tr><td>GC_TA_TCGCACT</td><td>(Intercept)  </td><td> 10.22924    </td><td>1            </td><td> 0.53290000  </td><td> -1.2149768  </td><td>-11.4442197  </td><td>5.329e-01    </td><td>6.430e-11    </td></tr>\n",
       "\t<tr><td>GC_TA_TCGCGTT</td><td>(Intercept)  </td><td> 10.77602    </td><td>0            </td><td> 0.81189997  </td><td>  0.4441614  </td><td>-10.3318604  </td><td>8.119e-01    </td><td>2.690e-08    </td></tr>\n",
       "</tbody>\n",
       "</table>\n"
      ],
      "text/latex": [
       "\\begin{tabular}{r|lllllllll}\n",
       " Motif & Var & BetaDiff & SignBeta & PDiff & ABeta & jBeta & AP & JP\\\\\n",
       "\\hline\n",
       "\t AT\\_CG\\_CATACCG & (Intercept)       &  10.71838         & 1                 &  0.88590000       &  -0.3859187       & -11.1042987       & 8.860e-01         & 1.000e-04        \\\\\n",
       "\t AT\\_CG\\_ATAACGG & (Intercept)       & -20.27024         & 0                 & -0.81600000       & -19.4606321       &   0.8096031       & 1.000e-04         & 8.161e-01        \\\\\n",
       "\t AT\\_CG\\_CGAACCA & (Intercept)       & -11.15866         & 1                 & -0.20340000       & -14.7730789       &  -3.6144226       & 2.000e-04         & 2.036e-01        \\\\\n",
       "\t AT\\_CG\\_CAAACGC & (Intercept)       & -12.22031         & 1                 & -0.63170000       & -13.5633639       &  -1.3430570       & 6.000e-04         & 6.323e-01        \\\\\n",
       "\t AT\\_CG\\_CGAACTG & (Intercept)       & -10.17131         & 1                 & -0.11369994       & -12.4806314       &  -2.3093182       & 6.100e-08         & 1.137e-01        \\\\\n",
       "\t AT\\_CG\\_GCGATAG & (Intercept)       & -10.01344         & 1                 & -0.01819680       & -14.5489160       &  -4.5354711       & 3.200e-06         & 1.820e-02        \\\\\n",
       "\t AT\\_CG\\_GGTACCG & (Intercept)       & -14.12894         & 1                 & -0.45449281       & -15.9050387       &  -1.7761017       & 7.190e-06         & 4.545e-01        \\\\\n",
       "\t AT\\_CG\\_GCGATAA & (Intercept)       & -14.49135         & 1                 & -0.63600000       & -16.0499050       &  -1.5585576       & 6.000e-04         & 6.366e-01        \\\\\n",
       "\t AT\\_CG\\_GCAACGG & (Intercept)       & -17.45708         & 1                 & -0.74717490       & -18.3847721       &  -0.9276953       & 2.510e-05         & 7.472e-01        \\\\\n",
       "\t AT\\_CG\\_GCAATCG & (Intercept)       &  10.50416         & 1                 &  0.68230000       &  -1.0678908       & -11.5720511       & 6.823e-01         & 2.790e-09        \\\\\n",
       "\t AT\\_CG\\_TATACGC & (Intercept)       &  15.44947         & 0                 &  0.85309988       &   0.6599110       & -14.7895563       & 8.531e-01         & 1.220e-07        \\\\\n",
       "\t AT\\_CG\\_TTGATCG & (Intercept)       & -14.19627         & 1                 & -0.42536570       & -16.0579162       &  -1.8616473       & 3.430e-05         & 4.254e-01        \\\\\n",
       "\t AT\\_CG\\_CGCATCG & (Intercept)       &  10.90706         & 1                 &  0.22348940       &  -4.1120559       & -15.0191167       & 2.235e-01         & 1.060e-05        \\\\\n",
       "\t AT\\_CG\\_CGAACGC & (Intercept)       & -18.47933         & 1                 & -0.67250000       & -20.4225021       &  -1.9431726       & 3.000e-03         & 6.755e-01        \\\\\n",
       "\t AT\\_CG\\_CGGATAC & (Intercept)       & -12.98480         & 1                 & -0.38997970       & -15.1981916       &  -2.2133950       & 2.030e-05         & 3.900e-01        \\\\\n",
       "\t AT\\_TA\\_ACAACCG & (Intercept)       & -13.03641         & 1                 & -0.30829983       & -15.0099225       &  -1.9735125       & 1.740e-07         & 3.083e-01        \\\\\n",
       "\t AT\\_TA\\_ACGAGAT & (Intercept)       & -10.59737         & 1                 & -0.36319992       & -12.1482502       &  -1.5508846       & 7.990e-08         & 3.632e-01        \\\\\n",
       "\t AT\\_TA\\_ACGACGT & (Intercept)       &  13.36045         & 0                 &  0.97619911       &   0.0912532       & -13.2691996       & 9.762e-01         & 8.870e-07        \\\\\n",
       "\t AT\\_TA\\_CGAATCG & (Intercept)       & -12.04695         & 1                 & -0.76770000       & -13.1520907       &  -1.1051456       & 3.360e-02         & 8.013e-01        \\\\\n",
       "\t AT\\_TA\\_CGGAATC & (Intercept)       & -10.43219         & 1                 & -0.07989996       & -13.0367967       &  -2.6046037       & 4.100e-08         & 7.990e-02        \\\\\n",
       "\t AT\\_TA\\_GCGACCG & (Intercept)       & -11.23117         & 1                 & -0.52680000       & -13.5985953       &  -2.3674227       & 2.700e-03         & 5.295e-01        \\\\\n",
       "\t AT\\_TA\\_TCGACTC & (Intercept)       & -10.15215         & 1                 & -0.09739999       & -12.3785784       &  -2.2264235       & 1.190e-08         & 9.740e-02        \\\\\n",
       "\t AT\\_TA\\_TTGAGCG & (Intercept)       & -10.95424         & 1                 & -0.21429947       & -13.2991931       &  -2.3449485       & 5.290e-07         & 2.143e-01        \\\\\n",
       "\t AT\\_TA\\_CCGAACG & (Intercept)       & -11.47104         & 1                 & -0.26370000       & -17.1477756       &  -5.6767375       & 7.100e-03         & 2.708e-01        \\\\\n",
       "\t AT\\_TA\\_TCGAATA & (Intercept)       & -13.56377         & 1                 & -0.37488950       & -15.0369359       &  -1.4731702       & 1.050e-05         & 3.749e-01        \\\\\n",
       "\t GC\\_CG\\_CGTCACA & (Intercept)       & -10.62758         & 1                 & -0.06960000       & -13.0999071       &  -2.4723288       & 2.250e-09         & 6.960e-02        \\\\\n",
       "\t GC\\_CG\\_CGGCATA & (Intercept)       & -24.68548         & 0                 & -0.64876190       & -22.9073512       &   1.7781311       & 3.810e-05         & 6.488e-01        \\\\\n",
       "\t GC\\_CG\\_GCGCGTA & (Intercept)       & -13.87888         & 1                 & -0.66320000       & -15.4271777       &  -1.5482979       & 4.000e-04         & 6.636e-01        \\\\\n",
       "\t GC\\_TA\\_CGGCGTA & (Intercept)       & -11.10116         & 1                 & -0.84080000       & -11.6918075       &  -0.5906461       & 5.000e-04         & 8.413e-01        \\\\\n",
       "\t GC\\_TA\\_CGCCGAT & (Intercept)       & -14.43934         & 1                 & -0.55030000       & -16.0916447       &  -1.6523087       & 1.000e-04         & 5.504e-01        \\\\\n",
       "\t GC\\_TA\\_GCGCGTT & (Intercept)       &  11.63561         & 1                 &  0.92999960       &  -0.1560196       & -11.7916324       & 9.300e-01         & 4.030e-07        \\\\\n",
       "\t GC\\_TA\\_GCGCTTA & (Intercept)       &  11.26854         & 1                 &  0.52600000       &  -1.6398913       & -12.9084273       & 5.260e-01         & 2.820e-09        \\\\\n",
       "\t GC\\_TA\\_TCGCACT & (Intercept)       &  10.22924         & 1                 &  0.53290000       &  -1.2149768       & -11.4442197       & 5.329e-01         & 6.430e-11        \\\\\n",
       "\t GC\\_TA\\_TCGCGTT & (Intercept)       &  10.77602         & 0                 &  0.81189997       &   0.4441614       & -10.3318604       & 8.119e-01         & 2.690e-08        \\\\\n",
       "\\end{tabular}\n"
      ],
      "text/markdown": [
       "\n",
       "Motif | Var | BetaDiff | SignBeta | PDiff | ABeta | jBeta | AP | JP | \n",
       "|---|---|---|---|---|---|---|---|---|---|---|---|---|---|---|---|---|---|---|---|---|---|---|---|---|---|---|---|---|---|---|---|---|---|\n",
       "| AT_CG_CATACCG | (Intercept)   |  10.71838     | 1             |  0.88590000   |  -0.3859187   | -11.1042987   | 8.860e-01     | 1.000e-04     | \n",
       "| AT_CG_ATAACGG | (Intercept)   | -20.27024     | 0             | -0.81600000   | -19.4606321   |   0.8096031   | 1.000e-04     | 8.161e-01     | \n",
       "| AT_CG_CGAACCA | (Intercept)   | -11.15866     | 1             | -0.20340000   | -14.7730789   |  -3.6144226   | 2.000e-04     | 2.036e-01     | \n",
       "| AT_CG_CAAACGC | (Intercept)   | -12.22031     | 1             | -0.63170000   | -13.5633639   |  -1.3430570   | 6.000e-04     | 6.323e-01     | \n",
       "| AT_CG_CGAACTG | (Intercept)   | -10.17131     | 1             | -0.11369994   | -12.4806314   |  -2.3093182   | 6.100e-08     | 1.137e-01     | \n",
       "| AT_CG_GCGATAG | (Intercept)   | -10.01344     | 1             | -0.01819680   | -14.5489160   |  -4.5354711   | 3.200e-06     | 1.820e-02     | \n",
       "| AT_CG_GGTACCG | (Intercept)   | -14.12894     | 1             | -0.45449281   | -15.9050387   |  -1.7761017   | 7.190e-06     | 4.545e-01     | \n",
       "| AT_CG_GCGATAA | (Intercept)   | -14.49135     | 1             | -0.63600000   | -16.0499050   |  -1.5585576   | 6.000e-04     | 6.366e-01     | \n",
       "| AT_CG_GCAACGG | (Intercept)   | -17.45708     | 1             | -0.74717490   | -18.3847721   |  -0.9276953   | 2.510e-05     | 7.472e-01     | \n",
       "| AT_CG_GCAATCG | (Intercept)   |  10.50416     | 1             |  0.68230000   |  -1.0678908   | -11.5720511   | 6.823e-01     | 2.790e-09     | \n",
       "| AT_CG_TATACGC | (Intercept)   |  15.44947     | 0             |  0.85309988   |   0.6599110   | -14.7895563   | 8.531e-01     | 1.220e-07     | \n",
       "| AT_CG_TTGATCG | (Intercept)   | -14.19627     | 1             | -0.42536570   | -16.0579162   |  -1.8616473   | 3.430e-05     | 4.254e-01     | \n",
       "| AT_CG_CGCATCG | (Intercept)   |  10.90706     | 1             |  0.22348940   |  -4.1120559   | -15.0191167   | 2.235e-01     | 1.060e-05     | \n",
       "| AT_CG_CGAACGC | (Intercept)   | -18.47933     | 1             | -0.67250000   | -20.4225021   |  -1.9431726   | 3.000e-03     | 6.755e-01     | \n",
       "| AT_CG_CGGATAC | (Intercept)   | -12.98480     | 1             | -0.38997970   | -15.1981916   |  -2.2133950   | 2.030e-05     | 3.900e-01     | \n",
       "| AT_TA_ACAACCG | (Intercept)   | -13.03641     | 1             | -0.30829983   | -15.0099225   |  -1.9735125   | 1.740e-07     | 3.083e-01     | \n",
       "| AT_TA_ACGAGAT | (Intercept)   | -10.59737     | 1             | -0.36319992   | -12.1482502   |  -1.5508846   | 7.990e-08     | 3.632e-01     | \n",
       "| AT_TA_ACGACGT | (Intercept)   |  13.36045     | 0             |  0.97619911   |   0.0912532   | -13.2691996   | 9.762e-01     | 8.870e-07     | \n",
       "| AT_TA_CGAATCG | (Intercept)   | -12.04695     | 1             | -0.76770000   | -13.1520907   |  -1.1051456   | 3.360e-02     | 8.013e-01     | \n",
       "| AT_TA_CGGAATC | (Intercept)   | -10.43219     | 1             | -0.07989996   | -13.0367967   |  -2.6046037   | 4.100e-08     | 7.990e-02     | \n",
       "| AT_TA_GCGACCG | (Intercept)   | -11.23117     | 1             | -0.52680000   | -13.5985953   |  -2.3674227   | 2.700e-03     | 5.295e-01     | \n",
       "| AT_TA_TCGACTC | (Intercept)   | -10.15215     | 1             | -0.09739999   | -12.3785784   |  -2.2264235   | 1.190e-08     | 9.740e-02     | \n",
       "| AT_TA_TTGAGCG | (Intercept)   | -10.95424     | 1             | -0.21429947   | -13.2991931   |  -2.3449485   | 5.290e-07     | 2.143e-01     | \n",
       "| AT_TA_CCGAACG | (Intercept)   | -11.47104     | 1             | -0.26370000   | -17.1477756   |  -5.6767375   | 7.100e-03     | 2.708e-01     | \n",
       "| AT_TA_TCGAATA | (Intercept)   | -13.56377     | 1             | -0.37488950   | -15.0369359   |  -1.4731702   | 1.050e-05     | 3.749e-01     | \n",
       "| GC_CG_CGTCACA | (Intercept)   | -10.62758     | 1             | -0.06960000   | -13.0999071   |  -2.4723288   | 2.250e-09     | 6.960e-02     | \n",
       "| GC_CG_CGGCATA | (Intercept)   | -24.68548     | 0             | -0.64876190   | -22.9073512   |   1.7781311   | 3.810e-05     | 6.488e-01     | \n",
       "| GC_CG_GCGCGTA | (Intercept)   | -13.87888     | 1             | -0.66320000   | -15.4271777   |  -1.5482979   | 4.000e-04     | 6.636e-01     | \n",
       "| GC_TA_CGGCGTA | (Intercept)   | -11.10116     | 1             | -0.84080000   | -11.6918075   |  -0.5906461   | 5.000e-04     | 8.413e-01     | \n",
       "| GC_TA_CGCCGAT | (Intercept)   | -14.43934     | 1             | -0.55030000   | -16.0916447   |  -1.6523087   | 1.000e-04     | 5.504e-01     | \n",
       "| GC_TA_GCGCGTT | (Intercept)   |  11.63561     | 1             |  0.92999960   |  -0.1560196   | -11.7916324   | 9.300e-01     | 4.030e-07     | \n",
       "| GC_TA_GCGCTTA | (Intercept)   |  11.26854     | 1             |  0.52600000   |  -1.6398913   | -12.9084273   | 5.260e-01     | 2.820e-09     | \n",
       "| GC_TA_TCGCACT | (Intercept)   |  10.22924     | 1             |  0.53290000   |  -1.2149768   | -11.4442197   | 5.329e-01     | 6.430e-11     | \n",
       "| GC_TA_TCGCGTT | (Intercept)   |  10.77602     | 0             |  0.81189997   |   0.4441614   | -10.3318604   | 8.119e-01     | 2.690e-08     | \n",
       "\n",
       "\n"
      ],
      "text/plain": [
       "   Motif         Var         BetaDiff  SignBeta PDiff       ABeta      \n",
       "1  AT_CG_CATACCG (Intercept)  10.71838 1         0.88590000  -0.3859187\n",
       "2  AT_CG_ATAACGG (Intercept) -20.27024 0        -0.81600000 -19.4606321\n",
       "3  AT_CG_CGAACCA (Intercept) -11.15866 1        -0.20340000 -14.7730789\n",
       "4  AT_CG_CAAACGC (Intercept) -12.22031 1        -0.63170000 -13.5633639\n",
       "5  AT_CG_CGAACTG (Intercept) -10.17131 1        -0.11369994 -12.4806314\n",
       "6  AT_CG_GCGATAG (Intercept) -10.01344 1        -0.01819680 -14.5489160\n",
       "7  AT_CG_GGTACCG (Intercept) -14.12894 1        -0.45449281 -15.9050387\n",
       "8  AT_CG_GCGATAA (Intercept) -14.49135 1        -0.63600000 -16.0499050\n",
       "9  AT_CG_GCAACGG (Intercept) -17.45708 1        -0.74717490 -18.3847721\n",
       "10 AT_CG_GCAATCG (Intercept)  10.50416 1         0.68230000  -1.0678908\n",
       "11 AT_CG_TATACGC (Intercept)  15.44947 0         0.85309988   0.6599110\n",
       "12 AT_CG_TTGATCG (Intercept) -14.19627 1        -0.42536570 -16.0579162\n",
       "13 AT_CG_CGCATCG (Intercept)  10.90706 1         0.22348940  -4.1120559\n",
       "14 AT_CG_CGAACGC (Intercept) -18.47933 1        -0.67250000 -20.4225021\n",
       "15 AT_CG_CGGATAC (Intercept) -12.98480 1        -0.38997970 -15.1981916\n",
       "16 AT_TA_ACAACCG (Intercept) -13.03641 1        -0.30829983 -15.0099225\n",
       "17 AT_TA_ACGAGAT (Intercept) -10.59737 1        -0.36319992 -12.1482502\n",
       "18 AT_TA_ACGACGT (Intercept)  13.36045 0         0.97619911   0.0912532\n",
       "19 AT_TA_CGAATCG (Intercept) -12.04695 1        -0.76770000 -13.1520907\n",
       "20 AT_TA_CGGAATC (Intercept) -10.43219 1        -0.07989996 -13.0367967\n",
       "21 AT_TA_GCGACCG (Intercept) -11.23117 1        -0.52680000 -13.5985953\n",
       "22 AT_TA_TCGACTC (Intercept) -10.15215 1        -0.09739999 -12.3785784\n",
       "23 AT_TA_TTGAGCG (Intercept) -10.95424 1        -0.21429947 -13.2991931\n",
       "24 AT_TA_CCGAACG (Intercept) -11.47104 1        -0.26370000 -17.1477756\n",
       "25 AT_TA_TCGAATA (Intercept) -13.56377 1        -0.37488950 -15.0369359\n",
       "26 GC_CG_CGTCACA (Intercept) -10.62758 1        -0.06960000 -13.0999071\n",
       "27 GC_CG_CGGCATA (Intercept) -24.68548 0        -0.64876190 -22.9073512\n",
       "28 GC_CG_GCGCGTA (Intercept) -13.87888 1        -0.66320000 -15.4271777\n",
       "29 GC_TA_CGGCGTA (Intercept) -11.10116 1        -0.84080000 -11.6918075\n",
       "30 GC_TA_CGCCGAT (Intercept) -14.43934 1        -0.55030000 -16.0916447\n",
       "31 GC_TA_GCGCGTT (Intercept)  11.63561 1         0.92999960  -0.1560196\n",
       "32 GC_TA_GCGCTTA (Intercept)  11.26854 1         0.52600000  -1.6398913\n",
       "33 GC_TA_TCGCACT (Intercept)  10.22924 1         0.53290000  -1.2149768\n",
       "34 GC_TA_TCGCGTT (Intercept)  10.77602 0         0.81189997   0.4441614\n",
       "   jBeta       AP        JP       \n",
       "1  -11.1042987 8.860e-01 1.000e-04\n",
       "2    0.8096031 1.000e-04 8.161e-01\n",
       "3   -3.6144226 2.000e-04 2.036e-01\n",
       "4   -1.3430570 6.000e-04 6.323e-01\n",
       "5   -2.3093182 6.100e-08 1.137e-01\n",
       "6   -4.5354711 3.200e-06 1.820e-02\n",
       "7   -1.7761017 7.190e-06 4.545e-01\n",
       "8   -1.5585576 6.000e-04 6.366e-01\n",
       "9   -0.9276953 2.510e-05 7.472e-01\n",
       "10 -11.5720511 6.823e-01 2.790e-09\n",
       "11 -14.7895563 8.531e-01 1.220e-07\n",
       "12  -1.8616473 3.430e-05 4.254e-01\n",
       "13 -15.0191167 2.235e-01 1.060e-05\n",
       "14  -1.9431726 3.000e-03 6.755e-01\n",
       "15  -2.2133950 2.030e-05 3.900e-01\n",
       "16  -1.9735125 1.740e-07 3.083e-01\n",
       "17  -1.5508846 7.990e-08 3.632e-01\n",
       "18 -13.2691996 9.762e-01 8.870e-07\n",
       "19  -1.1051456 3.360e-02 8.013e-01\n",
       "20  -2.6046037 4.100e-08 7.990e-02\n",
       "21  -2.3674227 2.700e-03 5.295e-01\n",
       "22  -2.2264235 1.190e-08 9.740e-02\n",
       "23  -2.3449485 5.290e-07 2.143e-01\n",
       "24  -5.6767375 7.100e-03 2.708e-01\n",
       "25  -1.4731702 1.050e-05 3.749e-01\n",
       "26  -2.4723288 2.250e-09 6.960e-02\n",
       "27   1.7781311 3.810e-05 6.488e-01\n",
       "28  -1.5482979 4.000e-04 6.636e-01\n",
       "29  -0.5906461 5.000e-04 8.413e-01\n",
       "30  -1.6523087 1.000e-04 5.504e-01\n",
       "31 -11.7916324 9.300e-01 4.030e-07\n",
       "32 -12.9084273 5.260e-01 2.820e-09\n",
       "33 -11.4442197 5.329e-01 6.430e-11\n",
       "34 -10.3318604 8.119e-01 2.690e-08"
      ]
     },
     "metadata": {},
     "output_type": "display_data"
    }
   ],
   "source": [
    "dat %>% dplyr::filter(abs(BetaDiff) >= 10)"
   ]
  },
  {
   "cell_type": "code",
   "execution_count": 8,
   "metadata": {},
   "outputs": [
    {
     "data": {
      "text/plain": [
       "    Min.  1st Qu.   Median     Mean  3rd Qu.     Max. \n",
       "-24.6855  -0.9924  -0.2302  -0.2762   0.4676  15.4495 "
      ]
     },
     "metadata": {},
     "output_type": "display_data"
    }
   ],
   "source": [
    "summary(dat$BetaDiff)"
   ]
  },
  {
   "cell_type": "code",
   "execution_count": 10,
   "metadata": {},
   "outputs": [
    {
     "data": {},
     "metadata": {},
     "output_type": "display_data"
    },
    {
     "data": {
      "image/png": "[encoded data removed]",
      "text/plain": [
       "plot without title"
      ]
     },
     "metadata": {},
     "output_type": "display_data"
    }
   ],
   "source": [
    "dat %>% ggplot(aes(x = BetaDiff)) + geom_density()"
   ]
  },
  {
   "cell_type": "code",
   "execution_count": 18,
   "metadata": {},
   "outputs": [
    {
     "data": {},
     "metadata": {},
     "output_type": "display_data"
    },
    {
     "data": {
      "image/png": "[encoded data removed]",
      "text/plain": [
       "plot without title"
      ]
     },
     "metadata": {},
     "output_type": "display_data"
    }
   ],
   "source": [
    "dat %>% mutate(pred = 1/(1+exp(-ABeta))) %>% ggplot(aes(x = pred)) + geom_density()"
   ]
  },
  {
   "cell_type": "code",
   "execution_count": 19,
   "metadata": {},
   "outputs": [
    {
     "ename": "ERROR",
     "evalue": "Error in mutate_impl(.data, dots): Evaluation error: object 'JBeta' not found.\n",
     "output_type": "error",
     "traceback": [
      "Error in mutate_impl(.data, dots): Evaluation error: object 'JBeta' not found.\nTraceback:\n",
      "1. dat %>% mutate(pred = 1/(1 + exp(-JBeta))) %>% ggplot(aes(x = pred))",
      "2. withVisible(eval(quote(`_fseq`(`_lhs`)), env, env))",
      "3. eval(quote(`_fseq`(`_lhs`)), env, env)",
      "4. eval(quote(`_fseq`(`_lhs`)), env, env)",
      "5. `_fseq`(`_lhs`)",
      "6. freduce(value, `_function_list`)",
      "7. function_list[[i]](value)",
      "8. mutate(., pred = 1/(1 + exp(-JBeta)))",
      "9. mutate.tbl_df(., pred = 1/(1 + exp(-JBeta)))",
      "10. mutate_impl(.data, dots)"
     ]
    }
   ],
   "source": [
    "dat %>% mutate(pred = 1/(1+exp(-j\n",
    "        Beta))) %>% ggplot(aes(x = pred)) + geom_density()"
   ]
  }
 ],
 "metadata": {
  "kernelspec": {
   "display_name": "R",
   "language": "R",
   "name": "ir"
  },
  "language_info": {
   "codemirror_mode": "r",
   "file_extension": ".r",
   "mimetype": "text/x-r-source",
   "name": "R",
   "pygments_lexer": "r",
   "version": "3.5.0"
  }
 },
 "nbformat": 4,
 "nbformat_minor": 2
}
