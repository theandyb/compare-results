{
 "cells": [
  {
   "cell_type": "code",
   "execution_count": 1,
   "metadata": {},
   "outputs": [
    {
     "name": "stderr",
     "output_type": "stream",
     "text": [
      "── Attaching packages ─────────────────────────────────────── tidyverse 1.2.1 ──\n",
      "✔ ggplot2 3.0.0     ✔ purrr   0.2.5\n",
      "✔ tibble  1.4.2     ✔ dplyr   0.7.6\n",
      "✔ tidyr   0.8.1     ✔ stringr 1.3.1\n",
      "✔ readr   1.1.1     ✔ forcats 0.3.0\n",
      "── Conflicts ────────────────────────────────────────── tidyverse_conflicts() ──\n",
      "✖ dplyr::filter() masks stats::filter()\n",
      "✖ dplyr::lag()    masks stats::lag()\n"
     ]
    }
   ],
   "source": [
    "library(tidyverse)"
   ]
  },
  {
   "cell_type": "code",
   "execution_count": 10,
   "metadata": {},
   "outputs": [],
   "source": [
    "feature_specific_dir <- \"/net/snowwhite/home/beckandy/research/compare_results/output/feature_specific/\"\n",
    "feature_files <- list.files(feature_specific_dir)"
   ]
  },
  {
   "cell_type": "code",
   "execution_count": 11,
   "metadata": {},
   "outputs": [
    {
     "data": {
      "text/html": [
       "'/net/snowwhite/home/beckandy/research/compare_results/output/feature_specific/CpGI.csv'"
      ],
      "text/latex": [
       "'/net/snowwhite/home/beckandy/research/compare\\_results/output/feature\\_specific/CpGI.csv'"
      ],
      "text/markdown": [
       "'/net/snowwhite/home/beckandy/research/compare_results/output/feature_specific/CpGI.csv'"
      ],
      "text/plain": [
       "[1] \"/net/snowwhite/home/beckandy/research/compare_results/output/feature_specific/CpGI.csv\""
      ]
     },
     "metadata": {},
     "output_type": "display_data"
    }
   ],
   "source": [
    "paste0(feature_specific_dir, feature_files[1])"
   ]
  },
  {
   "cell_type": "markdown",
   "metadata": {},
   "source": [
    "### Intercepts"
   ]
  },
  {
   "cell_type": "code",
   "execution_count": 13,
   "metadata": {},
   "outputs": [
    {
     "data": {
      "text/html": [
       "13"
      ],
      "text/latex": [
       "13"
      ],
      "text/markdown": [
       "13"
      ],
      "text/plain": [
       "[1] 13"
      ]
     },
     "metadata": {},
     "output_type": "display_data"
    }
   ],
   "source": [
    "which(feature_files == 'Intercept.csv')"
   ]
  },
  {
   "cell_type": "code",
   "execution_count": 14,
   "metadata": {},
   "outputs": [
    {
     "name": "stderr",
     "output_type": "stream",
     "text": [
      "Parsed with column specification:\n",
      "cols(\n",
      "  Motif = col_character(),\n",
      "  Var = col_character(),\n",
      "  BetaDiff = col_double(),\n",
      "  SignBeta = col_integer(),\n",
      "  PDiff = col_double()\n",
      ")\n"
     ]
    }
   ],
   "source": [
    "dat <- read_csv(paste0(feature_specific_dir, feature_files[13]))"
   ]
  },
  {
   "cell_type": "code",
   "execution_count": 15,
   "metadata": {},
   "outputs": [
    {
     "data": {
      "text/html": [
       "<table>\n",
       "<thead><tr><th scope=col>Motif</th><th scope=col>Var</th><th scope=col>BetaDiff</th><th scope=col>SignBeta</th><th scope=col>PDiff</th></tr></thead>\n",
       "<tbody>\n",
       "\t<tr><td>AT_CG_AACACGC</td><td>(Intercept)  </td><td> 0.0501116   </td><td>1            </td><td> 5.349e-05   </td></tr>\n",
       "\t<tr><td>AT_CG_AAAATCG</td><td>(Intercept)  </td><td>-2.6297205   </td><td>1            </td><td> 5.034e-08   </td></tr>\n",
       "\t<tr><td>AT_CG_AACACGT</td><td>(Intercept)  </td><td> 1.6287464   </td><td>1            </td><td> 8.290e-06   </td></tr>\n",
       "\t<tr><td>AT_CG_AACAACG</td><td>(Intercept)  </td><td>-4.0288975   </td><td>1            </td><td>-6.284e-06   </td></tr>\n",
       "\t<tr><td>AT_CG_AAGACGG</td><td>(Intercept)  </td><td>-1.7890922   </td><td>1            </td><td>-3.000e-03   </td></tr>\n",
       "\t<tr><td>AT_CG_AAGACGA</td><td>(Intercept)  </td><td> 3.1009177   </td><td>1            </td><td> 4.860e-02   </td></tr>\n",
       "</tbody>\n",
       "</table>\n"
      ],
      "text/latex": [
       "\\begin{tabular}{r|lllll}\n",
       " Motif & Var & BetaDiff & SignBeta & PDiff\\\\\n",
       "\\hline\n",
       "\t AT\\_CG\\_AACACGC & (Intercept)       &  0.0501116        & 1                 &  5.349e-05       \\\\\n",
       "\t AT\\_CG\\_AAAATCG & (Intercept)       & -2.6297205        & 1                 &  5.034e-08       \\\\\n",
       "\t AT\\_CG\\_AACACGT & (Intercept)       &  1.6287464        & 1                 &  8.290e-06       \\\\\n",
       "\t AT\\_CG\\_AACAACG & (Intercept)       & -4.0288975        & 1                 & -6.284e-06       \\\\\n",
       "\t AT\\_CG\\_AAGACGG & (Intercept)       & -1.7890922        & 1                 & -3.000e-03       \\\\\n",
       "\t AT\\_CG\\_AAGACGA & (Intercept)       &  3.1009177        & 1                 &  4.860e-02       \\\\\n",
       "\\end{tabular}\n"
      ],
      "text/markdown": [
       "\n",
       "Motif | Var | BetaDiff | SignBeta | PDiff | \n",
       "|---|---|---|---|---|---|\n",
       "| AT_CG_AACACGC | (Intercept)   |  0.0501116    | 1             |  5.349e-05    | \n",
       "| AT_CG_AAAATCG | (Intercept)   | -2.6297205    | 1             |  5.034e-08    | \n",
       "| AT_CG_AACACGT | (Intercept)   |  1.6287464    | 1             |  8.290e-06    | \n",
       "| AT_CG_AACAACG | (Intercept)   | -4.0288975    | 1             | -6.284e-06    | \n",
       "| AT_CG_AAGACGG | (Intercept)   | -1.7890922    | 1             | -3.000e-03    | \n",
       "| AT_CG_AAGACGA | (Intercept)   |  3.1009177    | 1             |  4.860e-02    | \n",
       "\n",
       "\n"
      ],
      "text/plain": [
       "  Motif         Var         BetaDiff   SignBeta PDiff     \n",
       "1 AT_CG_AACACGC (Intercept)  0.0501116 1         5.349e-05\n",
       "2 AT_CG_AAAATCG (Intercept) -2.6297205 1         5.034e-08\n",
       "3 AT_CG_AACACGT (Intercept)  1.6287464 1         8.290e-06\n",
       "4 AT_CG_AACAACG (Intercept) -4.0288975 1        -6.284e-06\n",
       "5 AT_CG_AAGACGG (Intercept) -1.7890922 1        -3.000e-03\n",
       "6 AT_CG_AAGACGA (Intercept)  3.1009177 1         4.860e-02"
      ]
     },
     "metadata": {},
     "output_type": "display_data"
    }
   ],
   "source": [
    "head(dat)"
   ]
  },
  {
   "cell_type": "code",
   "execution_count": 28,
   "metadata": {},
   "outputs": [
    {
     "data": {
      "text/html": [
       "<table>\n",
       "<thead><tr><th scope=col>Motif</th><th scope=col>Var</th><th scope=col>BetaDiff</th><th scope=col>SignBeta</th><th scope=col>PDiff</th></tr></thead>\n",
       "<tbody>\n",
       "\t<tr><td>AT_CG_ATAACGG</td><td>(Intercept)  </td><td>-20.270235   </td><td>0            </td><td>-0.8160000   </td></tr>\n",
       "\t<tr><td>AT_CG_GATACGC</td><td>(Intercept)  </td><td>  9.024343   </td><td>0            </td><td> 0.8098905   </td></tr>\n",
       "\t<tr><td>AT_CG_TATACGC</td><td>(Intercept)  </td><td> 15.449467   </td><td>0            </td><td> 0.8530999   </td></tr>\n",
       "\t<tr><td>AT_TA_ACGACGT</td><td>(Intercept)  </td><td> 13.360453   </td><td>0            </td><td> 0.9761991   </td></tr>\n",
       "\t<tr><td>GC_CG_CGGCATA</td><td>(Intercept)  </td><td>-24.685482   </td><td>0            </td><td>-0.6487619   </td></tr>\n",
       "\t<tr><td>GC_CG_TTTCGCG</td><td>(Intercept)  </td><td>  8.557333   </td><td>0            </td><td> 0.9938000   </td></tr>\n",
       "\t<tr><td>GC_TA_TCGCGTT</td><td>(Intercept)  </td><td> 10.776022   </td><td>0            </td><td> 0.8119000   </td></tr>\n",
       "</tbody>\n",
       "</table>\n"
      ],
      "text/latex": [
       "\\begin{tabular}{r|lllll}\n",
       " Motif & Var & BetaDiff & SignBeta & PDiff\\\\\n",
       "\\hline\n",
       "\t AT\\_CG\\_ATAACGG & (Intercept)       & -20.270235        & 0                 & -0.8160000       \\\\\n",
       "\t AT\\_CG\\_GATACGC & (Intercept)       &   9.024343        & 0                 &  0.8098905       \\\\\n",
       "\t AT\\_CG\\_TATACGC & (Intercept)       &  15.449467        & 0                 &  0.8530999       \\\\\n",
       "\t AT\\_TA\\_ACGACGT & (Intercept)       &  13.360453        & 0                 &  0.9761991       \\\\\n",
       "\t GC\\_CG\\_CGGCATA & (Intercept)       & -24.685482        & 0                 & -0.6487619       \\\\\n",
       "\t GC\\_CG\\_TTTCGCG & (Intercept)       &   8.557333        & 0                 &  0.9938000       \\\\\n",
       "\t GC\\_TA\\_TCGCGTT & (Intercept)       &  10.776022        & 0                 &  0.8119000       \\\\\n",
       "\\end{tabular}\n"
      ],
      "text/markdown": [
       "\n",
       "Motif | Var | BetaDiff | SignBeta | PDiff | \n",
       "|---|---|---|---|---|---|---|\n",
       "| AT_CG_ATAACGG | (Intercept)   | -20.270235    | 0             | -0.8160000    | \n",
       "| AT_CG_GATACGC | (Intercept)   |   9.024343    | 0             |  0.8098905    | \n",
       "| AT_CG_TATACGC | (Intercept)   |  15.449467    | 0             |  0.8530999    | \n",
       "| AT_TA_ACGACGT | (Intercept)   |  13.360453    | 0             |  0.9761991    | \n",
       "| GC_CG_CGGCATA | (Intercept)   | -24.685482    | 0             | -0.6487619    | \n",
       "| GC_CG_TTTCGCG | (Intercept)   |   8.557333    | 0             |  0.9938000    | \n",
       "| GC_TA_TCGCGTT | (Intercept)   |  10.776022    | 0             |  0.8119000    | \n",
       "\n",
       "\n"
      ],
      "text/plain": [
       "  Motif         Var         BetaDiff   SignBeta PDiff     \n",
       "1 AT_CG_ATAACGG (Intercept) -20.270235 0        -0.8160000\n",
       "2 AT_CG_GATACGC (Intercept)   9.024343 0         0.8098905\n",
       "3 AT_CG_TATACGC (Intercept)  15.449467 0         0.8530999\n",
       "4 AT_TA_ACGACGT (Intercept)  13.360453 0         0.9761991\n",
       "5 GC_CG_CGGCATA (Intercept) -24.685482 0        -0.6487619\n",
       "6 GC_CG_TTTCGCG (Intercept)   8.557333 0         0.9938000\n",
       "7 GC_TA_TCGCGTT (Intercept)  10.776022 0         0.8119000"
      ]
     },
     "metadata": {},
     "output_type": "display_data"
    }
   ],
   "source": [
    "dat %>% dplyr::filter(SignBeta == 0)"
   ]
  }
 ],
 "metadata": {
  "kernelspec": {
   "display_name": "R",
   "language": "R",
   "name": "ir"
  },
  "language_info": {
   "codemirror_mode": "r",
   "file_extension": ".r",
   "mimetype": "text/x-r-source",
   "name": "R",
   "pygments_lexer": "r",
   "version": "3.5.0"
  }
 },
 "nbformat": 4,
 "nbformat_minor": 2
}
